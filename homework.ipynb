{
  "cells": [
    {
      "cell_type": "markdown",
      "metadata": {
        "id": "CPp9zZNjifb5"
      },
      "source": [
        "# DX 601 Week 6 Homework"
      ]
    },
    {
      "cell_type": "markdown",
      "metadata": {},
      "source": [
        "## Introduction\n",
        "\n",
        "In this homework, you will continue your practice working with random variables and expanding your focus to consider multiple variables at once.\n",
        "\n",
        "The focus on these problems is on your understanding of the math, not the programming. Some of the data sets will be small enough that you can look at the data and calculate the answer in your head. That is acceptable, though we encourage you to also think about how to write code to perform the same calculation for you. We will work with larger data sets and provide more code examples for you as this class progress."
      ]
    },
    {
      "cell_type": "markdown",
      "metadata": {},
      "source": [
        "## Example Code\n",
        "\n",
        "You may find it helpful to refer to these GitHub repositories of Jupyter notebooks for example code.\n",
        "\n",
        "* https://github.com/bu-cds-omds/dx500-examples\n",
        "* https://github.com/bu-cds-omds/dx601-examples\n",
        "* https://github.com/bu-cds-omds/dx602-examples\n",
        "\n",
        "Any calculations demonstrated in code examples or videos may be found in these notebooks, and you are allowed to copy this example code in your homework answers."
      ]
    },
    {
      "cell_type": "markdown",
      "metadata": {},
      "source": [
        "## Problems"
      ]
    },
    {
      "cell_type": "markdown",
      "metadata": {},
      "source": [
        "### Shared Imports"
      ]
    },
    {
      "cell_type": "code",
      "execution_count": 1,
      "metadata": {},
      "outputs": [],
      "source": [
        "import math\n",
        "import random"
      ]
    },
    {
      "cell_type": "code",
      "execution_count": 2,
      "metadata": {},
      "outputs": [],
      "source": [
        "import matplotlib.pyplot as plt\n",
        "import numpy as np\n",
        "import pandas as pd\n",
        "import sklearn.linear_model"
      ]
    },
    {
      "cell_type": "markdown",
      "metadata": {},
      "source": [
        "### Shared Data"
      ]
    },
    {
      "cell_type": "markdown",
      "metadata": {},
      "source": [
        "#### Mango Data\n",
        "\n",
        "Many of the problems will use this mango data set.\n",
        "This data set is small and your code should run instantly with it, but you will be able to use the same code and techniques with larger data sets."
      ]
    },
    {
      "cell_type": "code",
      "execution_count": 3,
      "metadata": {},
      "outputs": [],
      "source": [
        "mango_data = pd.read_csv(\"mango-tiny.tsv\", sep=\"\\t\")"
      ]
    },
    {
      "cell_type": "code",
      "execution_count": 4,
      "metadata": {},
      "outputs": [
        {
          "data": {
            "text/html": [
              "<div>\n",
              "<style scoped>\n",
              "    .dataframe tbody tr th:only-of-type {\n",
              "        vertical-align: middle;\n",
              "    }\n",
              "\n",
              "    .dataframe tbody tr th {\n",
              "        vertical-align: top;\n",
              "    }\n",
              "\n",
              "    .dataframe thead th {\n",
              "        text-align: right;\n",
              "    }\n",
              "</style>\n",
              "<table border=\"1\" class=\"dataframe\">\n",
              "  <thead>\n",
              "    <tr style=\"text-align: right;\">\n",
              "      <th></th>\n",
              "      <th>green_rating</th>\n",
              "      <th>yellow_rating</th>\n",
              "      <th>softness</th>\n",
              "      <th>wrinkles</th>\n",
              "      <th>estimated_flavor</th>\n",
              "      <th>estimated_sweetness</th>\n",
              "      <th>rated_flavor</th>\n",
              "    </tr>\n",
              "  </thead>\n",
              "  <tbody>\n",
              "    <tr>\n",
              "      <th>0</th>\n",
              "      <td>1</td>\n",
              "      <td>5</td>\n",
              "      <td>4</td>\n",
              "      <td>0</td>\n",
              "      <td>4</td>\n",
              "      <td>4</td>\n",
              "      <td>5</td>\n",
              "    </tr>\n",
              "    <tr>\n",
              "      <th>1</th>\n",
              "      <td>1</td>\n",
              "      <td>5</td>\n",
              "      <td>5</td>\n",
              "      <td>1</td>\n",
              "      <td>5</td>\n",
              "      <td>5</td>\n",
              "      <td>1</td>\n",
              "    </tr>\n",
              "    <tr>\n",
              "      <th>2</th>\n",
              "      <td>2</td>\n",
              "      <td>4</td>\n",
              "      <td>3</td>\n",
              "      <td>1</td>\n",
              "      <td>3</td>\n",
              "      <td>3</td>\n",
              "      <td>3</td>\n",
              "    </tr>\n",
              "    <tr>\n",
              "      <th>3</th>\n",
              "      <td>3</td>\n",
              "      <td>3</td>\n",
              "      <td>2</td>\n",
              "      <td>0</td>\n",
              "      <td>2</td>\n",
              "      <td>1</td>\n",
              "      <td>2</td>\n",
              "    </tr>\n",
              "    <tr>\n",
              "      <th>4</th>\n",
              "      <td>5</td>\n",
              "      <td>1</td>\n",
              "      <td>1</td>\n",
              "      <td>1</td>\n",
              "      <td>1</td>\n",
              "      <td>1</td>\n",
              "      <td>1</td>\n",
              "    </tr>\n",
              "    <tr>\n",
              "      <th>5</th>\n",
              "      <td>4</td>\n",
              "      <td>2</td>\n",
              "      <td>1</td>\n",
              "      <td>1</td>\n",
              "      <td>1</td>\n",
              "      <td>1</td>\n",
              "      <td>1</td>\n",
              "    </tr>\n",
              "    <tr>\n",
              "      <th>6</th>\n",
              "      <td>5</td>\n",
              "      <td>1</td>\n",
              "      <td>1</td>\n",
              "      <td>1</td>\n",
              "      <td>2</td>\n",
              "      <td>1</td>\n",
              "      <td>1</td>\n",
              "    </tr>\n",
              "    <tr>\n",
              "      <th>7</th>\n",
              "      <td>3</td>\n",
              "      <td>3</td>\n",
              "      <td>2</td>\n",
              "      <td>1</td>\n",
              "      <td>2</td>\n",
              "      <td>2</td>\n",
              "      <td>2</td>\n",
              "    </tr>\n",
              "  </tbody>\n",
              "</table>\n",
              "</div>"
            ],
            "text/plain": [
              "   green_rating  yellow_rating  softness  wrinkles  estimated_flavor  \\\n",
              "0             1              5         4         0                 4   \n",
              "1             1              5         5         1                 5   \n",
              "2             2              4         3         1                 3   \n",
              "3             3              3         2         0                 2   \n",
              "4             5              1         1         1                 1   \n",
              "5             4              2         1         1                 1   \n",
              "6             5              1         1         1                 2   \n",
              "7             3              3         2         1                 2   \n",
              "\n",
              "   estimated_sweetness  rated_flavor  \n",
              "0                    4             5  \n",
              "1                    5             1  \n",
              "2                    3             3  \n",
              "3                    1             2  \n",
              "4                    1             1  \n",
              "5                    1             1  \n",
              "6                    1             1  \n",
              "7                    2             2  "
            ]
          },
          "execution_count": 4,
          "metadata": {},
          "output_type": "execute_result"
        }
      ],
      "source": [
        "mango_data"
      ]
    },
    {
      "cell_type": "markdown",
      "metadata": {},
      "source": [
        "#### Abalone Data\n",
        "\n",
        "A few problems will use the abalone data set too."
      ]
    },
    {
      "cell_type": "code",
      "execution_count": 5,
      "metadata": {},
      "outputs": [],
      "source": [
        "abalone = pd.read_csv(\"https://raw.githubusercontent.com/bu-cds-omds/dx601-examples/main/data/abalone.tsv\", sep=\"\\t\")"
      ]
    },
    {
      "cell_type": "code",
      "execution_count": 6,
      "metadata": {},
      "outputs": [
        {
          "data": {
            "text/html": [
              "<div>\n",
              "<style scoped>\n",
              "    .dataframe tbody tr th:only-of-type {\n",
              "        vertical-align: middle;\n",
              "    }\n",
              "\n",
              "    .dataframe tbody tr th {\n",
              "        vertical-align: top;\n",
              "    }\n",
              "\n",
              "    .dataframe thead th {\n",
              "        text-align: right;\n",
              "    }\n",
              "</style>\n",
              "<table border=\"1\" class=\"dataframe\">\n",
              "  <thead>\n",
              "    <tr style=\"text-align: right;\">\n",
              "      <th></th>\n",
              "      <th>Sex</th>\n",
              "      <th>Length</th>\n",
              "      <th>Diameter</th>\n",
              "      <th>Height</th>\n",
              "      <th>Whole_weight</th>\n",
              "      <th>Shucked_weight</th>\n",
              "      <th>Viscera_weight</th>\n",
              "      <th>Shell_weight</th>\n",
              "      <th>Rings</th>\n",
              "    </tr>\n",
              "  </thead>\n",
              "  <tbody>\n",
              "    <tr>\n",
              "      <th>0</th>\n",
              "      <td>M</td>\n",
              "      <td>0.455</td>\n",
              "      <td>0.365</td>\n",
              "      <td>0.095</td>\n",
              "      <td>0.5140</td>\n",
              "      <td>0.2245</td>\n",
              "      <td>0.1010</td>\n",
              "      <td>0.1500</td>\n",
              "      <td>15</td>\n",
              "    </tr>\n",
              "    <tr>\n",
              "      <th>1</th>\n",
              "      <td>M</td>\n",
              "      <td>0.350</td>\n",
              "      <td>0.265</td>\n",
              "      <td>0.090</td>\n",
              "      <td>0.2255</td>\n",
              "      <td>0.0995</td>\n",
              "      <td>0.0485</td>\n",
              "      <td>0.0700</td>\n",
              "      <td>7</td>\n",
              "    </tr>\n",
              "    <tr>\n",
              "      <th>2</th>\n",
              "      <td>F</td>\n",
              "      <td>0.530</td>\n",
              "      <td>0.420</td>\n",
              "      <td>0.135</td>\n",
              "      <td>0.6770</td>\n",
              "      <td>0.2565</td>\n",
              "      <td>0.1415</td>\n",
              "      <td>0.2100</td>\n",
              "      <td>9</td>\n",
              "    </tr>\n",
              "    <tr>\n",
              "      <th>3</th>\n",
              "      <td>M</td>\n",
              "      <td>0.440</td>\n",
              "      <td>0.365</td>\n",
              "      <td>0.125</td>\n",
              "      <td>0.5160</td>\n",
              "      <td>0.2155</td>\n",
              "      <td>0.1140</td>\n",
              "      <td>0.1550</td>\n",
              "      <td>10</td>\n",
              "    </tr>\n",
              "    <tr>\n",
              "      <th>4</th>\n",
              "      <td>I</td>\n",
              "      <td>0.330</td>\n",
              "      <td>0.255</td>\n",
              "      <td>0.080</td>\n",
              "      <td>0.2050</td>\n",
              "      <td>0.0895</td>\n",
              "      <td>0.0395</td>\n",
              "      <td>0.0550</td>\n",
              "      <td>7</td>\n",
              "    </tr>\n",
              "    <tr>\n",
              "      <th>...</th>\n",
              "      <td>...</td>\n",
              "      <td>...</td>\n",
              "      <td>...</td>\n",
              "      <td>...</td>\n",
              "      <td>...</td>\n",
              "      <td>...</td>\n",
              "      <td>...</td>\n",
              "      <td>...</td>\n",
              "      <td>...</td>\n",
              "    </tr>\n",
              "    <tr>\n",
              "      <th>4172</th>\n",
              "      <td>F</td>\n",
              "      <td>0.565</td>\n",
              "      <td>0.450</td>\n",
              "      <td>0.165</td>\n",
              "      <td>0.8870</td>\n",
              "      <td>0.3700</td>\n",
              "      <td>0.2390</td>\n",
              "      <td>0.2490</td>\n",
              "      <td>11</td>\n",
              "    </tr>\n",
              "    <tr>\n",
              "      <th>4173</th>\n",
              "      <td>M</td>\n",
              "      <td>0.590</td>\n",
              "      <td>0.440</td>\n",
              "      <td>0.135</td>\n",
              "      <td>0.9660</td>\n",
              "      <td>0.4390</td>\n",
              "      <td>0.2145</td>\n",
              "      <td>0.2605</td>\n",
              "      <td>10</td>\n",
              "    </tr>\n",
              "    <tr>\n",
              "      <th>4174</th>\n",
              "      <td>M</td>\n",
              "      <td>0.600</td>\n",
              "      <td>0.475</td>\n",
              "      <td>0.205</td>\n",
              "      <td>1.1760</td>\n",
              "      <td>0.5255</td>\n",
              "      <td>0.2875</td>\n",
              "      <td>0.3080</td>\n",
              "      <td>9</td>\n",
              "    </tr>\n",
              "    <tr>\n",
              "      <th>4175</th>\n",
              "      <td>F</td>\n",
              "      <td>0.625</td>\n",
              "      <td>0.485</td>\n",
              "      <td>0.150</td>\n",
              "      <td>1.0945</td>\n",
              "      <td>0.5310</td>\n",
              "      <td>0.2610</td>\n",
              "      <td>0.2960</td>\n",
              "      <td>10</td>\n",
              "    </tr>\n",
              "    <tr>\n",
              "      <th>4176</th>\n",
              "      <td>M</td>\n",
              "      <td>0.710</td>\n",
              "      <td>0.555</td>\n",
              "      <td>0.195</td>\n",
              "      <td>1.9485</td>\n",
              "      <td>0.9455</td>\n",
              "      <td>0.3765</td>\n",
              "      <td>0.4950</td>\n",
              "      <td>12</td>\n",
              "    </tr>\n",
              "  </tbody>\n",
              "</table>\n",
              "<p>4177 rows × 9 columns</p>\n",
              "</div>"
            ],
            "text/plain": [
              "     Sex  Length  Diameter  Height  Whole_weight  Shucked_weight  \\\n",
              "0      M   0.455     0.365   0.095        0.5140          0.2245   \n",
              "1      M   0.350     0.265   0.090        0.2255          0.0995   \n",
              "2      F   0.530     0.420   0.135        0.6770          0.2565   \n",
              "3      M   0.440     0.365   0.125        0.5160          0.2155   \n",
              "4      I   0.330     0.255   0.080        0.2050          0.0895   \n",
              "...   ..     ...       ...     ...           ...             ...   \n",
              "4172   F   0.565     0.450   0.165        0.8870          0.3700   \n",
              "4173   M   0.590     0.440   0.135        0.9660          0.4390   \n",
              "4174   M   0.600     0.475   0.205        1.1760          0.5255   \n",
              "4175   F   0.625     0.485   0.150        1.0945          0.5310   \n",
              "4176   M   0.710     0.555   0.195        1.9485          0.9455   \n",
              "\n",
              "      Viscera_weight  Shell_weight  Rings  \n",
              "0             0.1010        0.1500     15  \n",
              "1             0.0485        0.0700      7  \n",
              "2             0.1415        0.2100      9  \n",
              "3             0.1140        0.1550     10  \n",
              "4             0.0395        0.0550      7  \n",
              "...              ...           ...    ...  \n",
              "4172          0.2390        0.2490     11  \n",
              "4173          0.2145        0.2605     10  \n",
              "4174          0.2875        0.3080      9  \n",
              "4175          0.2610        0.2960     10  \n",
              "4176          0.3765        0.4950     12  \n",
              "\n",
              "[4177 rows x 9 columns]"
            ]
          },
          "execution_count": 6,
          "metadata": {},
          "output_type": "execute_result"
        }
      ],
      "source": [
        "abalone"
      ]
    },
    {
      "cell_type": "markdown",
      "metadata": {},
      "source": [
        "### Problem 1\n",
        "\n",
        "What is the marginal distribution of green ratings?\n",
        "Set `p1` to the marginal distribution of green ratings represented as a dictionary of probabilities.\n",
        "Use the integer ratings as the keys in `p1`."
      ]
    },
    {
      "cell_type": "code",
      "execution_count": 7,
      "metadata": {},
      "outputs": [],
      "source": [
        "# YOUR CHANGES HERE\n",
        "\n",
        "counts = {}\n",
        "for rate in mango_data[\"green_rating\"]:\n",
        "    counts[rate] = counts.get(rate, 0) + 1\n",
        "\n",
        "total_counts = sum(counts.values())\n",
        "p1 = {k: v / total_counts for k, v in counts.items()}"
      ]
    },
    {
      "cell_type": "code",
      "execution_count": 8,
      "metadata": {},
      "outputs": [
        {
          "data": {
            "text/plain": [
              "{1: 0.25, 2: 0.125, 3: 0.25, 5: 0.25, 4: 0.125}"
            ]
          },
          "execution_count": 8,
          "metadata": {},
          "output_type": "execute_result"
        }
      ],
      "source": [
        "# p1 = mango_data['green_rating'].value_counts(normalize=True).sort_index().to_dict()\n",
        "p1"
      ]
    },
    {
      "cell_type": "markdown",
      "metadata": {},
      "source": [
        "### Problem 2\n",
        "\n",
        "Compute the marginal distribution of the mango data set's yellow rating and softness columns.\n",
        "Save that probability distribution as a dictionary keyed by a tuple of yellow rating and softness values in `p2`."
      ]
    },
    {
      "cell_type": "code",
      "execution_count": 9,
      "metadata": {},
      "outputs": [],
      "source": [
        "# YOUR CHANGES HERE\n",
        "\n",
        "counts = {}\n",
        "for row in zip(mango_data[\"yellow_rating\"], mango_data[\"softness\"]):\n",
        "    key = tuple(row)\n",
        "    counts[key] = counts.get(key, 0) + 1\n",
        "\n",
        "total_counts = sum(counts.values())\n",
        "p2 = {k: v / total_counts for k, v in counts.items()}\n",
        "    \n",
        "    "
      ]
    },
    {
      "cell_type": "code",
      "execution_count": 10,
      "metadata": {},
      "outputs": [
        {
          "data": {
            "text/plain": [
              "{(5, 4): 0.125,\n",
              " (5, 5): 0.125,\n",
              " (4, 3): 0.125,\n",
              " (3, 2): 0.25,\n",
              " (1, 1): 0.25,\n",
              " (2, 1): 0.125}"
            ]
          },
          "execution_count": 10,
          "metadata": {},
          "output_type": "execute_result"
        }
      ],
      "source": [
        "p2"
      ]
    },
    {
      "cell_type": "markdown",
      "metadata": {},
      "source": [
        "### Problem 3\n",
        "\n",
        "Set `p3` to be the probability distribution of rated flavor conditioned on yellowness being rated 1.\n",
        "The keys should be the integer ratings."
      ]
    },
    {
      "cell_type": "code",
      "execution_count": 11,
      "metadata": {},
      "outputs": [
        {
          "name": "stdout",
          "output_type": "stream",
          "text": [
            "{1: 2}\n"
          ]
        }
      ],
      "source": [
        "# YOUR CHANGES HERE\n",
        "\n",
        "counts = {}\n",
        "for row in zip(mango_data[\"yellow_rating\"], mango_data[\"softness\"]):\n",
        "    key = tuple(row)\n",
        "    if key[0] == 1:\n",
        "        counts[key[1]] = counts.get(key[1], 0) + 1\n",
        "\n",
        "total_counts = sum(counts.values())\n",
        "print(counts)\n",
        "p3 = {k: v / total_counts for k, v in counts.items()}\n"
      ]
    },
    {
      "cell_type": "code",
      "execution_count": 12,
      "metadata": {},
      "outputs": [
        {
          "data": {
            "text/plain": [
              "{1: 1.0}"
            ]
          },
          "execution_count": 12,
          "metadata": {},
          "output_type": "execute_result"
        }
      ],
      "source": [
        "p3"
      ]
    },
    {
      "cell_type": "markdown",
      "metadata": {},
      "source": [
        "### Problem 4\n",
        "\n",
        "Set `p4` to be the probability distribution of estimated flavor conditioned on the softness being at least 3.\n",
        "The keys should be the integer estimated flavor values."
      ]
    },
    {
      "cell_type": "code",
      "execution_count": 13,
      "metadata": {},
      "outputs": [],
      "source": [
        "# YOUR CHANGES HERE\n",
        "counts = {}\n",
        "for row in zip(mango_data[\"softness\"], mango_data[\"estimated_flavor\"]):\n",
        "    key = tuple(row)\n",
        "    if key[0] >= 3:\n",
        "        counts[key[1]] = counts.get(key[1], 0) + 1\n",
        "\n",
        "total_counts = sum(counts.values())\n",
        "p4 = {k: v / total_counts for k, v in counts.items()}"
      ]
    },
    {
      "cell_type": "code",
      "execution_count": 14,
      "metadata": {},
      "outputs": [
        {
          "data": {
            "text/plain": [
              "{4: 0.3333333333333333, 5: 0.3333333333333333, 3: 0.3333333333333333}"
            ]
          },
          "execution_count": 14,
          "metadata": {},
          "output_type": "execute_result"
        }
      ],
      "source": [
        "p4"
      ]
    },
    {
      "cell_type": "markdown",
      "metadata": {},
      "source": [
        "### Problem 5\n",
        "\n",
        "Suppose you work at Big Data Shopping Co and are given the following information by your web site analyst.\n",
        "One in four hundred of the recent visitors to the shopping website added a flamingo nightstand to their shopping cart.\n",
        "One in a thousand of the recent visitors bought a flamingo nightstand.\n",
        "Not surprisingly, everyone who bought a flamingo nightstand had already added it to their shopping cart.\n",
        "\n",
        "Set `p5` to the conditional probability of buying a flamingo nightstand conditioned on adding a flamingo nightstand to the shopping cart.\n",
        "You should assume that all the statistics above are representative for this calculation."
      ]
    },
    {
      "cell_type": "code",
      "execution_count": 15,
      "metadata": {},
      "outputs": [],
      "source": [
        "# YOUR CHANGES HERE\n",
        "\n",
        "p5 = (1/1000) / (1/400)"
      ]
    },
    {
      "cell_type": "code",
      "execution_count": 16,
      "metadata": {},
      "outputs": [
        {
          "data": {
            "text/plain": [
              "0.4"
            ]
          },
          "execution_count": 16,
          "metadata": {},
          "output_type": "execute_result"
        }
      ],
      "source": [
        "p5"
      ]
    },
    {
      "cell_type": "markdown",
      "metadata": {},
      "source": [
        "### Problem 6\n",
        "\n",
        "In the last 24 hours, 132 out of 500 visitors to bigdata.shopping's garden gnome page bought a garden gnome.\n",
        "Given no other data or assumptions, set `p6` to the best estimate of the probability that a visitor to the garden gnome page will buy a garden gnome."
      ]
    },
    {
      "cell_type": "code",
      "execution_count": 17,
      "metadata": {},
      "outputs": [],
      "source": [
        "# YOUR CHANGES HERE\n",
        "\n",
        "p6 = (132/500)"
      ]
    },
    {
      "cell_type": "code",
      "execution_count": 18,
      "metadata": {},
      "outputs": [
        {
          "data": {
            "text/plain": [
              "0.264"
            ]
          },
          "execution_count": 18,
          "metadata": {},
          "output_type": "execute_result"
        }
      ],
      "source": [
        "p6"
      ]
    },
    {
      "cell_type": "markdown",
      "metadata": {},
      "source": [
        "### Problem 7\n",
        "\n",
        "Set `p7` to be the correlation between the rated yellowness and rated flavor columns in the mango data set.\n",
        "\n"
      ]
    },
    {
      "cell_type": "code",
      "execution_count": 19,
      "metadata": {},
      "outputs": [],
      "source": [
        "# YOUR CHANGES HERE\n",
        "def cov(X, Y):\n",
        "    X_mean = np.mean(X)\n",
        "    Y_mean = np.mean(Y)\n",
        "    return np.mean([(x - X_mean) * (y - Y_mean) for x, y in zip(X, Y)])\n",
        "\n",
        "def corrcoef(X, Y):\n",
        "    return cov(X, Y) / (np.std(X) * np.std(Y))\n",
        "p7 = corrcoef(mango_data[\"yellow_rating\"], mango_data[\"rated_flavor\"])"
      ]
    },
    {
      "cell_type": "code",
      "execution_count": 20,
      "metadata": {},
      "outputs": [
        {
          "data": {
            "text/plain": [
              "np.float64(0.629940788348712)"
            ]
          },
          "execution_count": 20,
          "metadata": {},
          "output_type": "execute_result"
        }
      ],
      "source": [
        "p7"
      ]
    },
    {
      "cell_type": "markdown",
      "metadata": {},
      "source": [
        "### Problem 8\n",
        "\n",
        "Set `p8` to the name of the column which is most correlated with rated flavor in the mango data set.\n",
        "That is, `p8` should be the name of the column with the highest correlation with rated flavor besides rated flavor itself."
      ]
    },
    {
      "cell_type": "code",
      "execution_count": 21,
      "metadata": {},
      "outputs": [
        {
          "name": "stdout",
          "output_type": "stream",
          "text": [
            "{'green_rating': np.float64(-0.629940788348712), 'yellow_rating': np.float64(0.629940788348712), 'softness': np.float64(0.46954492963387634), 'wrinkles': np.float64(-0.6546536707079772), 'estimated_flavor': np.float64(0.4285714285714285), 'estimated_sweetness': np.float64(0.4472135954999579)}\n"
          ]
        }
      ],
      "source": [
        "# YOUR CHANGES HERE\n",
        "corr_dict = {name: corrcoef(mango_data[name], mango_data[\"rated_flavor\"]) for name in mango_data.columns if name != \"rated_flavor\"}\n",
        "print(corr_dict)\n",
        "p8 = max(corr_dict, key=corr_dict.get)"
      ]
    },
    {
      "cell_type": "code",
      "execution_count": 22,
      "metadata": {},
      "outputs": [
        {
          "data": {
            "text/plain": [
              "'yellow_rating'"
            ]
          },
          "execution_count": 22,
          "metadata": {},
          "output_type": "execute_result"
        }
      ],
      "source": [
        "p8"
      ]
    },
    {
      "cell_type": "markdown",
      "metadata": {},
      "source": [
        "### Problem 9\n",
        "\n",
        "Are the whole weight and shucked weight columns of the abalone data set independent?\n",
        "Set `p9` to be `True` if they are independent and `False` otherwise.\n",
        "\n",
        "Base your determination on the scatter plot below.\n"
      ]
    },
    {
      "cell_type": "code",
      "execution_count": 23,
      "metadata": {},
      "outputs": [
        {
          "data": {
            "text/plain": [
              "<matplotlib.collections.PathCollection at 0x15f7afcb0>"
            ]
          },
          "execution_count": 23,
          "metadata": {},
          "output_type": "execute_result"
        },
        {
          "data": {
            "image/png": "[encoded data removed]",
            "text/plain": [
              "<Figure size 640x480 with 1 Axes>"
            ]
          },
          "metadata": {},
          "output_type": "display_data"
        }
      ],
      "source": [
        "# DO NOT CHANGE\n",
        "\n",
        "plt.scatter(abalone[\"Whole_weight\"], abalone[\"Shucked_weight\"], alpha=0.2)"
      ]
    },
    {
      "cell_type": "code",
      "execution_count": 24,
      "metadata": {},
      "outputs": [],
      "source": [
        "# YOUR CHANGES HERE\n",
        "\n",
        "p9 = True"
      ]
    },
    {
      "cell_type": "code",
      "execution_count": 25,
      "metadata": {},
      "outputs": [
        {
          "data": {
            "text/plain": [
              "True"
            ]
          },
          "execution_count": 25,
          "metadata": {},
          "output_type": "execute_result"
        }
      ],
      "source": [
        "p9"
      ]
    },
    {
      "cell_type": "markdown",
      "metadata": {},
      "source": [
        "### Problem 10\n",
        "\n",
        "Set `p10` to be `True` if the $x$ and $y$ coordinates in the chart below are independent and `False` otherwise."
      ]
    },
    {
      "cell_type": "code",
      "execution_count": null,
      "metadata": {},
      "outputs": [],
      "source": [
        "x10a = np.random.uniform(size=10000)\n",
        "y10a = np.random.uniform(size=x10a.size)\n",
        "\n",
        "i10 = [i for (i, (x, y)) in enumerate(zip(x10a, y10a)) if x**2 + y ** 2 <= 1]\n",
        "       \n",
        "x10 = x10a[i10]\n",
        "y10 = y10a[i10]\n",
        "\n",
        "plt.scatter(x10, y10, alpha=0.2)\n",
        "None"
      ]
    },
    {
      "cell_type": "code",
      "execution_count": null,
      "metadata": {},
      "outputs": [],
      "source": [
        "# YOUR CHANGES HERE\n",
        "\n",
        "p10 = ..."
      ]
    },
    {
      "cell_type": "code",
      "execution_count": null,
      "metadata": {},
      "outputs": [],
      "source": [
        "p10"
      ]
    },
    {
      "cell_type": "markdown",
      "metadata": {},
      "source": [
        "### Problem 11\n",
        "\n",
        "Set `p11` to the covariance matrix for `x11` and `y11`.\n",
        "`p11` should be a $2 \\times 2$ array or comparable list with the first row and column for `x11` and the second row and column for `y11`."
      ]
    },
    {
      "cell_type": "code",
      "execution_count": null,
      "metadata": {},
      "outputs": [],
      "source": [
        "# DO NOT CHANGE\n",
        "\n",
        "x11 = [3.45135619, 3.30359868, 3.80301221, 3.05576091, 3.35959026,\n",
        "       3.93369823, 3.56030892, 3.79079918, 3.58351627, 3.89955704,\n",
        "       3.50722748, 3.81814012, 3.11891712, 3.23604022, 3.41046033,\n",
        "       3.61879663, 3.47733679, 3.47219379, 3.26335395, 3.94815672,\n",
        "       3.05499943, 3.31165065, 3.14194717, 3.85874993, 3.43944239,\n",
        "       3.93880704, 3.78149361, 3.85319621, 3.93251236, 3.1244458 ,\n",
        "       3.51479675, 3.31065647, 3.68922161, 3.69453609, 3.99817691,\n",
        "       3.78797417, 3.61678566, 3.14469358, 3.41114671, 3.06903794,\n",
        "       3.33712988, 3.96222151, 3.8151214 , 3.6291897 , 3.14286665,\n",
        "       3.43086176, 3.17191446, 3.40047667, 3.61731853, 3.36008659,\n",
        "       3.49071748, 3.51121044, 3.62548735, 3.97730327, 3.13992702,\n",
        "       3.32208527, 3.58140311, 3.29690303, 3.20326751, 3.58290725,\n",
        "       3.10759188, 3.0529344 , 3.35643465, 3.92696211, 3.60750114,\n",
        "       3.90811756, 3.66407104, 3.07349926, 3.72687355, 3.94626354,\n",
        "       3.9910842 , 3.53947948, 3.6408745 , 3.8486967 , 3.00029992,\n",
        "       3.87798094, 3.00201273, 3.06248824, 3.79740457, 3.75539568,\n",
        "       3.10317852, 3.07839287, 3.45268881, 3.65475305, 3.0676645 ,\n",
        "       3.80307742, 3.85776697, 3.74214255, 3.87684372, 3.30847049,\n",
        "       3.06396169, 3.61068014, 3.15080616, 3.54575297, 3.34265319,\n",
        "       3.84526746, 3.81736296, 3.89075515, 3.45335972, 3.55364463]"
      ]
    },
    {
      "cell_type": "code",
      "execution_count": null,
      "metadata": {},
      "outputs": [],
      "source": [
        "# DO NOT CHANGE\n",
        "\n",
        "y11 = [ 9.52308027,  9.07980775, 10.57804833,  8.33629443,  9.24778248,\n",
        "       10.97010639,  9.84993847, 10.54140923,  9.9195605 , 10.86768282,\n",
        "        9.69069413, 10.62343205,  8.52576306,  8.87713237,  9.40039269,\n",
        "       10.02540158,  9.60102207,  9.58559305,  8.95907353, 11.01348187,\n",
        "        8.33400998,  9.10396364,  8.59485321, 10.74526148,  9.48733888,\n",
        "       10.98543281, 10.51349254, 10.72860033, 10.96654878,  8.5423491 ,\n",
        "        9.71340195,  9.10098111, 10.23667653, 10.25261998, 11.16354243,\n",
        "       10.53293421, 10.01936868,  8.60309245,  9.40245182,  8.37612552,\n",
        "        9.18040135, 11.05567622, 10.6143759 , 10.05658081,  8.59761165,\n",
        "        9.46159698,  8.68475508,  9.37044171, 10.02096729,  9.24927146,\n",
        "        9.64116415,  9.70264301, 10.04547374, 11.1009215 ,  8.58879276,\n",
        "        9.1352675 ,  9.91322104,  9.05972079,  8.77881422,  9.91773345,\n",
        "        8.49178735,  8.32781491,  9.23831565, 10.94989801,  9.99151513,\n",
        "       10.89336439, 10.16122481,  8.38950948, 10.34963234, 11.00780233,\n",
        "       11.1422643 ,  9.78745015, 10.09163519, 10.71510178,  8.16991145,\n",
        "       10.80295453,  8.1750499 ,  8.35647643, 10.56122542, 10.43519874,\n",
        "        8.47854725,  8.40419031,  9.52707813, 10.13327086,  8.37200519,\n",
        "       10.57824395, 10.74231262, 10.39543934, 10.79954286,  9.09442317,\n",
        "        8.36089677, 10.00105211,  8.62143019,  9.80627061,  9.19697126,\n",
        "       10.70481407, 10.62110057, 10.84127715,  9.52909086,  9.8299456 ]"
      ]
    },
    {
      "cell_type": "code",
      "execution_count": null,
      "metadata": {},
      "outputs": [],
      "source": [
        "# YOUR CHANGES HERE\n",
        "\n",
        "p11 = ..."
      ]
    },
    {
      "cell_type": "code",
      "execution_count": null,
      "metadata": {},
      "outputs": [],
      "source": [
        "p11"
      ]
    },
    {
      "cell_type": "markdown",
      "metadata": {},
      "source": [
        "### Problem 12\n",
        "\n",
        "Set `p12` to the Pearson correlation coefficient of `x12` and `y12`.\n",
        "`p12` should be a single number."
      ]
    },
    {
      "cell_type": "code",
      "execution_count": null,
      "metadata": {},
      "outputs": [],
      "source": [
        "# DO NOT CHANGE\n",
        "\n",
        "x12 = [-2.91506986,  2.4369173 ,  1.95599664,  2.95052172,  1.57172146,\n",
        "       -2.69617796, -0.57004013, -2.38431119,  2.81499733,  2.36040737,\n",
        "       -1.88615599,  2.20839037,  2.84780467, -0.38441269,  0.37903161,\n",
        "       -1.32846574,  2.83433648,  3.47947224,  2.47839045,  0.97819286,\n",
        "       -0.98231451,  2.52159622,  3.55418221,  1.16098093, -0.90595327,\n",
        "        1.42144648, -2.82560611, -0.38950829, -0.42510526, -1.17864301,\n",
        "        2.89650282, -1.94533532, -0.34752021,  3.59037634, -1.89225398,\n",
        "        2.92597104,  2.36110456,  0.49836093, -2.47595   ,  3.69327894,\n",
        "        0.32182152,  1.66297472,  1.2216482 ,  1.09225112, -0.58822119,\n",
        "        0.06469419,  0.12561507,  1.25396746,  0.45719347, -0.58770038,\n",
        "        3.33165298,  0.54996139, -2.15161759,  2.87857705,  3.88066786,\n",
        "       -2.2969584 , -1.0433141 , -1.91700636, -0.96606184,  1.47657963,\n",
        "        0.41398809,  1.91887443,  2.8595397 ,  1.79240611,  1.2716482 ,\n",
        "        3.019548  , -1.79358378,  2.45557719,  1.07625993, -1.19877437,\n",
        "       -0.85417661,  2.28901314,  1.99013355,  0.19455197, -1.70340119,\n",
        "        2.04949576, -0.73452472,  3.79394578, -1.33681017, -1.69285713,\n",
        "       -1.09488167,  0.09516032,  3.28976286,  0.09890515,  3.04869108,\n",
        "        2.71824262,  1.33703119,  1.10887475,  2.41646694, -2.59743874,\n",
        "       -1.88581193,  2.45257687,  0.45014817,  1.3551674 ,  0.45466688,\n",
        "        2.22815127, -1.63962405,  0.71262641,  1.57814179, -0.87506036]"
      ]
    },
    {
      "cell_type": "code",
      "execution_count": null,
      "metadata": {},
      "outputs": [],
      "source": [
        "# DO NOT CHANGE\n",
        "\n",
        "y12 = [-3.62136104,  3.01354918,  0.59259613,  1.26662246,  2.83774649,\n",
        "       -1.35137909,  1.33513713, -0.53735492,  4.03892323,  1.3209898 ,\n",
        "       -3.82294367,  3.94269009,  2.43955259, -1.05945146,  0.9462566 ,\n",
        "       -2.2829637 ,  1.31812779,  1.54014681,  3.25593623,  2.20225728,\n",
        "       -1.69075821,  2.44057529,  4.10961481, -0.74944241, -2.20164569,\n",
        "        3.08381835, -2.36200571, -2.26095247, -0.2076718 , -2.55422417,\n",
        "        4.70777453, -0.74357913, -0.41282737,  4.92947842, -3.77328693,\n",
        "        1.00351866,  0.83136727, -0.7447911 , -4.38005256,  3.01850649,\n",
        "       -0.85726851, -0.02974665,  2.56200295,  0.87407479, -0.45513678,\n",
        "       -0.19204408, -0.70899064,  3.17028081,  1.87739584, -0.99310834,\n",
        "        2.51451823,  0.59064547, -0.27711393,  2.43869616,  2.53649148,\n",
        "       -3.24708835, -0.50652785, -0.53188376, -1.46503737,  0.99217475,\n",
        "        0.65902263,  2.8911828 ,  2.31470242,  3.20227862,  1.21931988,\n",
        "        2.52646379, -1.64352734,  3.70722116, -0.55695142, -1.8817341 ,\n",
        "       -0.83730948,  2.87349221,  0.21400964,  2.01714879,  0.0751672 ,\n",
        "        2.11068784, -0.34094097,  5.72579119, -2.80712103, -1.73365343,\n",
        "       -2.25287371, -1.65139632,  3.02286331, -1.04334269,  3.91376557,\n",
        "        2.94859819,  2.53726986,  0.28805016,  1.76029973, -1.99723417,\n",
        "       -1.46763362,  3.80846982, -0.58780512,  2.3922342 , -1.18348973,\n",
        "        3.58798976, -3.27026166,  2.509013  , -0.20161348, -0.86510388]"
      ]
    },
    {
      "cell_type": "code",
      "execution_count": null,
      "metadata": {},
      "outputs": [],
      "source": [
        "# YOUR CHANGES HERE\n",
        "\n",
        "p12 = ..."
      ]
    },
    {
      "cell_type": "code",
      "execution_count": null,
      "metadata": {},
      "outputs": [],
      "source": [
        "p12"
      ]
    },
    {
      "cell_type": "markdown",
      "metadata": {},
      "source": [
        "### Problem 13\n",
        "\n",
        "Set `p13` to the correlation matrix of the columns of `q13`."
      ]
    },
    {
      "cell_type": "code",
      "execution_count": null,
      "metadata": {},
      "outputs": [],
      "source": [
        "# DO NOT CHANGE\n",
        "\n",
        "q13 = pd.DataFrame({\"a\": [0, 1, 1, 1, 0, 0, 1, 0, 1, 0], \"b\": [0, 0, 0, 1, 0, 0, 1, 0, 0, 1]})\n",
        "q13"
      ]
    },
    {
      "cell_type": "code",
      "execution_count": null,
      "metadata": {},
      "outputs": [],
      "source": [
        "# YOUR CHANGES HERE\n",
        "\n",
        "p13 = ..."
      ]
    },
    {
      "cell_type": "code",
      "execution_count": null,
      "metadata": {},
      "outputs": [],
      "source": [
        "p13"
      ]
    },
    {
      "cell_type": "markdown",
      "metadata": {},
      "source": [
        "### Problem 14\n",
        "\n",
        "Set `p14` to the median value of column `x` according to the data set in `q14`."
      ]
    },
    {
      "cell_type": "code",
      "execution_count": null,
      "metadata": {},
      "outputs": [],
      "source": [
        "# DO NOT CHANGE\n",
        "\n",
        "q14 = pd.DataFrame({\"x\": [0, 0, 0, 0, 1, 1, 1, 1],\n",
        "                    \"y\": [0, 0, 1, 1, 0, 0, 1, 1],\n",
        "                     \"z\": [0, 1, 0, 1, 0, 1, 0, 1], \n",
        "                     \"probability\": [0.1, 0.05, 0.04, 0.20, 0.10, 0.02, 0.2, 0.29]})\n",
        "q14"
      ]
    },
    {
      "cell_type": "markdown",
      "metadata": {},
      "source": [
        "Hint: Make sure to consider the probability column in your answer."
      ]
    },
    {
      "cell_type": "code",
      "execution_count": null,
      "metadata": {},
      "outputs": [],
      "source": [
        "# YOUR CHANGES HERE\n",
        "\n",
        "p14 = ..."
      ]
    },
    {
      "cell_type": "code",
      "execution_count": null,
      "metadata": {},
      "outputs": [],
      "source": [
        "p14"
      ]
    },
    {
      "cell_type": "markdown",
      "metadata": {},
      "source": [
        "### Problem 15\n",
        "\n",
        "Suppose $X$ is a random variable between -5 and 5.\n",
        "Additionally, assume that $Y$ is a random variable uniformly distributed between $-\\sqrt{25 - X^2}$ and $\\sqrt{25 - X^2}$.\n",
        "Together, $X$ and $Y$ fill a circle centered on the origin of radius 5.\n",
        "\n",
        "Set `p15` to the Pearson correlation of $X$ and $Y$."
      ]
    },
    {
      "cell_type": "markdown",
      "metadata": {},
      "source": [
        "Hint: you can figure this by reasoning about the relationship between $X$ and $Y$."
      ]
    },
    {
      "cell_type": "code",
      "execution_count": null,
      "metadata": {},
      "outputs": [],
      "source": [
        "plt.figure(figsize=(2,2))\n",
        "\n",
        "x15 = np.linspace(-5, 5, 1000)\n",
        "plt.fill_between(x15, -np.sqrt(25 - x15 * x15), np.sqrt(25 - x15 * x15))\n",
        "None"
      ]
    },
    {
      "cell_type": "code",
      "execution_count": null,
      "metadata": {},
      "outputs": [],
      "source": [
        "# YOUR CHANGES HERE\n",
        "\n",
        "p15 = ..."
      ]
    },
    {
      "cell_type": "code",
      "execution_count": null,
      "metadata": {},
      "outputs": [],
      "source": [
        "p15"
      ]
    },
    {
      "cell_type": "markdown",
      "metadata": {},
      "source": [
        "### Problem 16\n",
        "\n",
        "Build a linear regression with the abalone data predicting the rings column.\n",
        "Set `p16` to be a list of the columns with positive coefficients in the linear regression."
      ]
    },
    {
      "cell_type": "code",
      "execution_count": null,
      "metadata": {},
      "outputs": [],
      "source": [
        "# DO NOT CHANGE\n",
        "\n",
        "abalone_inputs = abalone.drop([\"Sex\", \"Rings\"], axis=1)\n",
        "abalone_inputs"
      ]
    },
    {
      "cell_type": "code",
      "execution_count": null,
      "metadata": {},
      "outputs": [],
      "source": [
        "# DO NOT CHANGE\n",
        "\n",
        "abalone_target = abalone[\"Rings\"]\n",
        "abalone_target"
      ]
    },
    {
      "cell_type": "code",
      "execution_count": null,
      "metadata": {},
      "outputs": [],
      "source": [
        "# YOUR CHANGES HERE\n",
        "\n",
        "p16 = ..."
      ]
    },
    {
      "cell_type": "code",
      "execution_count": null,
      "metadata": {},
      "outputs": [],
      "source": [
        "p16"
      ]
    },
    {
      "cell_type": "markdown",
      "metadata": {},
      "source": [
        "### Problem 17\n",
        "\n",
        "Compute the correlations between the numeric columns of the abalone data set.\n",
        "Set `p17` to be a list of the numeric input (neither Sex nor Rings) columns that are positively correlated with the rings column."
      ]
    },
    {
      "cell_type": "code",
      "execution_count": null,
      "metadata": {},
      "outputs": [],
      "source": [
        "# YOUR CHANGES HERE\n",
        "\n",
        "p17 = ..."
      ]
    },
    {
      "cell_type": "code",
      "execution_count": null,
      "metadata": {},
      "outputs": [],
      "source": [
        "p17"
      ]
    },
    {
      "cell_type": "markdown",
      "metadata": {},
      "source": [
        "### Problem 18\n",
        "\n",
        "Read the following code setting and plotting the variables `xs9` and `ys9`.\n",
        "Set `p18` to `True` if `xs9` and `ys9` are independent and `False` otherwise."
      ]
    },
    {
      "cell_type": "code",
      "execution_count": null,
      "metadata": {},
      "outputs": [],
      "source": [
        "# DO NOT CHANGE\n",
        "\n",
        "xs9 = np.random.normal(scale=1.0, size=1000)\n",
        "ys9 = xs9 * 2 + np.random.normal(scale=200.0, size=xs9.shape)\n",
        "\n",
        "plt.scatter(xs9, ys9, alpha=0.1)\n",
        "None"
      ]
    },
    {
      "cell_type": "code",
      "execution_count": null,
      "metadata": {},
      "outputs": [],
      "source": [
        "# YOUR CHANGES HERE\n",
        "\n",
        "p18 = ..."
      ]
    },
    {
      "cell_type": "code",
      "execution_count": null,
      "metadata": {},
      "outputs": [],
      "source": [
        "p18"
      ]
    },
    {
      "cell_type": "markdown",
      "metadata": {},
      "source": [
        "### Problem 19\n",
        "\n",
        "Set `p19` to the average value of column `a` according to the data set in `q19`."
      ]
    },
    {
      "cell_type": "code",
      "execution_count": null,
      "metadata": {},
      "outputs": [],
      "source": [
        "# DO NOT CHANGE\n",
        "\n",
        "q19 = pd.DataFrame({\"a\": [0, 0, 1, 1], \"b\": [0, 1, 0, 1], \"probability\": [0.3, 0.25, 0.10, 0.35]})\n",
        "q19"
      ]
    },
    {
      "cell_type": "markdown",
      "metadata": {},
      "source": [
        "Hint: make sure to consider the probability column in your answer."
      ]
    },
    {
      "cell_type": "code",
      "execution_count": null,
      "metadata": {},
      "outputs": [],
      "source": [
        "# YOUR CHANGES HERE\n",
        "\n",
        "p19 = ..."
      ]
    },
    {
      "cell_type": "code",
      "execution_count": null,
      "metadata": {},
      "outputs": [],
      "source": [
        "p19"
      ]
    },
    {
      "cell_type": "markdown",
      "metadata": {},
      "source": [
        "### Problem 20\n",
        "\n",
        "Set `p20` to be the average $L_2$ loss using `f20` to predict `y20` from `x20`."
      ]
    },
    {
      "cell_type": "code",
      "execution_count": null,
      "metadata": {},
      "outputs": [],
      "source": [
        "# DO NOT CHANGE\n",
        "\n",
        "x20 = np.array([-0.52709912, -0.49174622,  0.82866436,  0.8217821 ,  0.3958331 ,\n",
        "       -0.87936203,  0.55333159,  0.30045474, -0.08038466, -0.71284041,\n",
        "       -0.68142469, -0.28651874,  0.90145789, -0.16948594,  0.58256802,\n",
        "       -0.4919045 , -0.00742751, -0.21247089, -0.77135299,  0.66969024,\n",
        "        0.35329456,  0.85175542,  0.12408819,  0.86938528,  0.95160858,\n",
        "        0.12594415,  0.31743633,  0.51340341, -0.8166252 , -0.49398853,\n",
        "        0.92503036, -0.14074539,  0.46231389,  0.92122755, -0.11715912,\n",
        "        0.96177006,  0.02910419,  0.50516748,  0.89121846,  0.72630979,\n",
        "       -0.31267924, -0.31578969, -0.92795899, -0.5052521 , -0.2201963 ,\n",
        "       -0.91495317,  0.39874951, -0.03522254, -0.01666227, -0.72403231,\n",
        "       -0.93057515, -0.70834874, -0.81217405,  0.91454526, -0.305444  ,\n",
        "        0.73411844,  0.62602511,  0.34952866,  0.3375004 , -0.61805719,\n",
        "        0.11652068,  0.44797788,  0.20932479,  0.11271963,  0.15622378,\n",
        "       -0.4182759 ,  0.93799812,  0.40374314,  0.93834405,  0.7549425 ,\n",
        "        0.07223779, -0.43460579,  0.25434465,  0.65296775,  0.6405034 ,\n",
        "       -0.15420097,  0.86634111,  0.77441435, -0.14974688,  0.37189752,\n",
        "        0.41132465, -0.28029963,  0.05296516,  0.39283028, -0.31468963,\n",
        "       -0.24875692,  0.91446888, -0.05691058,  0.92895291, -0.9706018 ,\n",
        "        0.85731386, -0.5833158 , -0.53153802, -0.62148641, -0.7015159 ,\n",
        "        0.73871662, -0.25388259, -0.54981557,  0.43285609, -0.98278776])\n",
        "y20 = np.sqrt(1 - x20 * x20)"
      ]
    },
    {
      "cell_type": "code",
      "execution_count": null,
      "metadata": {},
      "outputs": [],
      "source": [
        "# DO NOT CHANGE\n",
        "\n",
        "def f20(x):\n",
        "    return 1 - x * x"
      ]
    },
    {
      "cell_type": "code",
      "execution_count": null,
      "metadata": {},
      "outputs": [],
      "source": [
        "# YOUR CHANGES HERE\n",
        "\n",
        "p20 = ..."
      ]
    },
    {
      "cell_type": "code",
      "execution_count": null,
      "metadata": {},
      "outputs": [],
      "source": [
        "p20"
      ]
    },
    {
      "cell_type": "markdown",
      "metadata": {},
      "source": [
        "### Generative AI Usage\n",
        "\n",
        "If you used any generative AI tools, please add links to your transcripts below, and any other information that you feel is necessary to comply with the [generative AI policy](https://www.bu.edu/cds-faculty/culture-community/gaia-policy/).\n",
        "If you did not use any generative AI tools, simply write NONE below."
      ]
    },
    {
      "cell_type": "markdown",
      "metadata": {},
      "source": [
        "YOUR ANSWER HERE"
      ]
    }
  ],
  "metadata": {
    "colab": {
      "toc_visible": false
    },
    "kernelspec": {
      "display_name": "base",
      "language": "python",
      "name": "python3"
    },
    "language_info": {
      "codemirror_mode": {
        "name": "ipython",
        "version": 3
      },
      "file_extension": ".py",
      "mimetype": "text/x-python",
      "name": "python",
      "nbconvert_exporter": "python",
      "pygments_lexer": "ipython3",
      "version": "3.13.5"
    }
  },
  "nbformat": 4,
  "nbformat_minor": 0
}
